{
  "nbformat": 4,
  "nbformat_minor": 0,
  "metadata": {
    "colab": {
      "provenance": [],
      "collapsed_sections": []
    },
    "kernelspec": {
      "name": "python3",
      "display_name": "Python 3"
    },
    "language_info": {
      "name": "python"
    }
  },
  "cells": [
    {
      "cell_type": "markdown",
      "source": [
        "**Exercises**\n",
        "\n",
        "Answer the questions or complete the tasks outlined in bold below, use the specific method described if applicable.\n",
        "\n",
        "**What is 7 to the power of 4?**\n",
        "\n"
      ],
      "metadata": {
        "id": "uhIoevZcli3p"
      }
    },
    {
      "cell_type": "code",
      "execution_count": null,
      "metadata": {
        "colab": {
          "base_uri": "https://localhost:8080/"
        },
        "id": "EIyjPWbjlaHz",
        "outputId": "2c6aac60-0592-4f83-9eda-bcf90270ebd2"
      },
      "outputs": [
        {
          "output_type": "stream",
          "name": "stdout",
          "text": [
            "2401\n"
          ]
        }
      ],
      "source": [
        "print(pow(7,4))"
      ]
    },
    {
      "cell_type": "markdown",
      "source": [
        "**Split this string:**"
      ],
      "metadata": {
        "id": "Uk_qvWjQmDhn"
      }
    },
    {
      "cell_type": "code",
      "source": [
        "s = \"Hi there Sam!\""
      ],
      "metadata": {
        "id": "6YYM2XuHmLoj"
      },
      "execution_count": null,
      "outputs": []
    },
    {
      "cell_type": "markdown",
      "source": [
        "**into a list**"
      ],
      "metadata": {
        "id": "rVaYyzyvmRV2"
      }
    },
    {
      "cell_type": "code",
      "source": [
        "s = \"Hi there Sam!\"\n",
        "s.split(\" \")"
      ],
      "metadata": {
        "colab": {
          "base_uri": "https://localhost:8080/"
        },
        "id": "_nGKBracmQr3",
        "outputId": "8ef45b9e-5c23-4965-ef0f-9f1cf8768948"
      },
      "execution_count": null,
      "outputs": [
        {
          "output_type": "execute_result",
          "data": {
            "text/plain": [
              "['Hi', 'there', 'Sam!']"
            ]
          },
          "metadata": {},
          "execution_count": 3
        }
      ]
    },
    {
      "cell_type": "markdown",
      "source": [
        "**Given the variables:**"
      ],
      "metadata": {
        "id": "TT0kr3g6mZ-c"
      }
    },
    {
      "cell_type": "code",
      "source": [
        "planet = \"Earth\"\n",
        "diameter = 12742"
      ],
      "metadata": {
        "id": "PkVhjnLumdkN"
      },
      "execution_count": null,
      "outputs": []
    },
    {
      "cell_type": "markdown",
      "source": [
        "**Use .format() to print the following string:**\n",
        "\n",
        "The diameter of Earth is 12742 kilometers."
      ],
      "metadata": {
        "id": "Misly-tYmhAX"
      }
    },
    {
      "cell_type": "code",
      "source": [
        "planet = \"Earth\"\n",
        "diameter = 12742"
      ],
      "metadata": {
        "id": "M3gQkkPwmswU"
      },
      "execution_count": null,
      "outputs": []
    },
    {
      "cell_type": "code",
      "source": [
        "print(\"The diameter of \", planet ,\" is \", diameter ,  \" kilometers.\")"
      ],
      "metadata": {
        "colab": {
          "base_uri": "https://localhost:8080/"
        },
        "id": "g_h966fGmyV8",
        "outputId": "7f128040-e290-4020-853f-2fbccf85e8f7"
      },
      "execution_count": null,
      "outputs": [
        {
          "output_type": "stream",
          "name": "stdout",
          "text": [
            "The diameter of  Earth  is  12742  kilometers.\n"
          ]
        }
      ]
    },
    {
      "cell_type": "markdown",
      "source": [
        "**Given this nested list, use indexing to grab the word \"hello\"**"
      ],
      "metadata": {
        "id": "2EdP4g95m1ql"
      }
    },
    {
      "cell_type": "code",
      "source": [
        "lst = [1,2,[3,4],[5,[100,200,['hello']],23,11],1,7]"
      ],
      "metadata": {
        "id": "ApA_YGWqm3T7"
      },
      "execution_count": null,
      "outputs": []
    },
    {
      "cell_type": "code",
      "source": [
        "print(lst[3][1][2])"
      ],
      "metadata": {
        "colab": {
          "base_uri": "https://localhost:8080/"
        },
        "id": "FbTUmgrem_tU",
        "outputId": "c58b18dc-87e4-4747-b390-62940456f6d5"
      },
      "execution_count": null,
      "outputs": [
        {
          "output_type": "stream",
          "name": "stdout",
          "text": [
            "['hello']\n"
          ]
        }
      ]
    },
    {
      "cell_type": "markdown",
      "source": [
        "**Given this nest dictionary grab the word \"hello\". Be prepared, this will be annoying/tricky**"
      ],
      "metadata": {
        "id": "wUu9U4IcnEXl"
      }
    },
    {
      "cell_type": "code",
      "source": [
        "d = {'k1':[1,2,3,{'tricky':['oh','man','inception',{'target':[1,2,3,'hello']}]}]}"
      ],
      "metadata": {
        "id": "HwQoiDUjnFhl"
      },
      "execution_count": null,
      "outputs": []
    },
    {
      "cell_type": "code",
      "source": [
        "dict1 = (d.get('k1')[3])\n",
        "# print(dict1)\n",
        "\n",
        "dict2 = (dict1.get('tricky')[3])\n",
        "# print (dict2)"
      ],
      "metadata": {
        "id": "Dg4gNnpRnK9K"
      },
      "execution_count": null,
      "outputs": []
    },
    {
      "cell_type": "code",
      "source": [
        "print(dict2.get('target')[3])\n"
      ],
      "metadata": {
        "colab": {
          "base_uri": "https://localhost:8080/"
        },
        "id": "zE7OBpIunOmT",
        "outputId": "eea2f5dd-80c4-4433-a9ca-ecf789b56da4"
      },
      "execution_count": null,
      "outputs": [
        {
          "output_type": "stream",
          "name": "stdout",
          "text": [
            "hello\n"
          ]
        }
      ]
    },
    {
      "cell_type": "markdown",
      "source": [
        "**What is the main difference between a tuple and a list?**"
      ],
      "metadata": {
        "id": "CvNPvfMLnSxp"
      }
    },
    {
      "cell_type": "code",
      "source": [
        "tup =(1,2,3,4,5)\n",
        "print(\"tuple==>\",tup)\n",
        "lis=[1,2,3,4]\n",
        "print(\"List==>\",lis)"
      ],
      "metadata": {
        "colab": {
          "base_uri": "https://localhost:8080/"
        },
        "id": "AtieKFSOnTqM",
        "outputId": "c2ced8da-81a7-4899-fa4b-8830dc025665"
      },
      "execution_count": null,
      "outputs": [
        {
          "output_type": "stream",
          "name": "stdout",
          "text": [
            "tuple==> (1, 2, 3, 4, 5)\n",
            "List==> [1, 2, 3, 4]\n"
          ]
        }
      ]
    },
    {
      "cell_type": "markdown",
      "source": [
        "**Create a function that grabs the email website domain from a string in the form**:\n",
        "\n",
        "user@domain.com\n",
        "\n",
        "**So for example, passing \"user@domain.com\" would return: domain.com**"
      ],
      "metadata": {
        "id": "NoOPe2PnnaPa"
      }
    },
    {
      "cell_type": "code",
      "source": [],
      "metadata": {
        "id": "b3Mzyd41cIER"
      },
      "execution_count": null,
      "outputs": []
    },
    {
      "cell_type": "code",
      "source": [
        "def domain(text):\n",
        "  x = text.split(\"@\")\n",
        "  print(x[-1])"
      ],
      "metadata": {
        "id": "LmRR9OlEn2vc"
      },
      "execution_count": null,
      "outputs": []
    },
    {
      "cell_type": "code",
      "source": [
        "domain(\"user@domain.com\")"
      ],
      "metadata": {
        "colab": {
          "base_uri": "https://localhost:8080/"
        },
        "id": "Fb-n9GNpn7dY",
        "outputId": "26f5da70-7a16-4fbd-af7d-86fbc5b6b35c"
      },
      "execution_count": null,
      "outputs": [
        {
          "output_type": "stream",
          "name": "stdout",
          "text": [
            "domain.com\n"
          ]
        }
      ]
    },
    {
      "cell_type": "markdown",
      "source": [
        "**Create a basic function that returns True if the word 'dog' is contained in the input string. Don't worry about edge cases like a punctuation being attached to the word dog, but do account for capitalization.**"
      ],
      "metadata": {
        "id": "ecP0GB9qn-tG"
      }
    },
    {
      "cell_type": "code",
      "source": [
        "def findDog(text):\n",
        "    if 'dog' in text.lower():\n",
        "        print(\"True\")\n",
        "    else:\n",
        "        print(\"False\")"
      ],
      "metadata": {
        "id": "5RxcG-wUoAd2"
      },
      "execution_count": null,
      "outputs": []
    },
    {
      "cell_type": "code",
      "source": [
        "findDog(\"my dog name is tommy\")"
      ],
      "metadata": {
        "colab": {
          "base_uri": "https://localhost:8080/"
        },
        "id": "uZIaswcgoGdY",
        "outputId": "c5127cd3-4dad-4c14-ca90-87a790b080a2"
      },
      "execution_count": null,
      "outputs": [
        {
          "output_type": "stream",
          "name": "stdout",
          "text": [
            "True\n"
          ]
        }
      ]
    },
    {
      "cell_type": "markdown",
      "source": [
        "**Create a function that counts the number of times the word \"dog\" occurs in a string. Again ignore edge cases.**"
      ],
      "metadata": {
        "id": "48UO7um6oKC8"
      }
    },
    {
      "cell_type": "code",
      "source": [
        "def dogcount(value):\n",
        "    count = 0\n",
        "    for word in value.lower().split():\n",
        "        if word == 'dog' or word == 'dogs':\n",
        "            count = count + 1\n",
        "    print(count)"
      ],
      "metadata": {
        "id": "N2cYYsqEoMuF"
      },
      "execution_count": null,
      "outputs": []
    },
    {
      "cell_type": "code",
      "source": [
        "dogcount(\"dog is not a dog , dog is like a friend\")"
      ],
      "metadata": {
        "colab": {
          "base_uri": "https://localhost:8080/"
        },
        "id": "1IXdUp6hoReH",
        "outputId": "b59dd0a7-184a-4008-db14-97ccbc301f0f"
      },
      "execution_count": null,
      "outputs": [
        {
          "output_type": "stream",
          "name": "stdout",
          "text": [
            "3\n"
          ]
        }
      ]
    },
    {
      "cell_type": "markdown",
      "source": [
        "**Problem**\n",
        "\n",
        "**You are driving a little too fast, and a police officer stops you. Write a function to return one of 3 possible results: \"No ticket\", \"Small ticket\", or \"Big Ticket\". If your speed is 60 or less, the result is \"No Ticket\". If speed is between 61 and 80 inclusive, the result is \"Small Ticket\". If speed is 81 or more, the result is \"Big Ticket\". Unless it is your birthday (encoded as a boolean value in the parameters of the function) -- on your birthday, your speed can be 5 higher in all cases.**"
      ],
      "metadata": {
        "id": "X3RRlAtaoXaQ"
      }
    },
    {
      "cell_type": "code",
      "source": [
        "def caught_speeding(speed, is_birthday):\n",
        "    \n",
        "    if is_birthday:\n",
        "        speeding = speed - 5\n",
        "    else:\n",
        "        speeding = speed\n",
        "    \n",
        "    if speeding > 80:\n",
        "        return 'Big Ticket'\n",
        "    elif speeding > 60:\n",
        "        return 'Small Ticket'\n",
        "    else:\n",
        "        return 'No Ticket'"
      ],
      "metadata": {
        "id": "Utx5ENCFok7_"
      },
      "execution_count": null,
      "outputs": []
    },
    {
      "cell_type": "code",
      "source": [
        "caught_speeding(85,False)"
      ],
      "metadata": {
        "colab": {
          "base_uri": "https://localhost:8080/",
          "height": 35
        },
        "id": "AreTgeAcop_k",
        "outputId": "75c835a0-82b0-436d-e03f-c72578945d00"
      },
      "execution_count": null,
      "outputs": [
        {
          "output_type": "execute_result",
          "data": {
            "text/plain": [
              "'Big Ticket'"
            ],
            "application/vnd.google.colaboratory.intrinsic+json": {
              "type": "string"
            }
          },
          "metadata": {},
          "execution_count": 22
        }
      ]
    },
    {
      "cell_type": "code",
      "source": [
        "caught_speeding(70,True)"
      ],
      "metadata": {
        "colab": {
          "base_uri": "https://localhost:8080/",
          "height": 35
        },
        "id": "PNvIRlnLotWh",
        "outputId": "3cbe7a80-d960-435e-a0cf-3a2c5220e7b1"
      },
      "execution_count": null,
      "outputs": [
        {
          "output_type": "execute_result",
          "data": {
            "text/plain": [
              "'Small Ticket'"
            ],
            "application/vnd.google.colaboratory.intrinsic+json": {
              "type": "string"
            }
          },
          "metadata": {},
          "execution_count": 23
        }
      ]
    },
    {
      "cell_type": "markdown",
      "source": [
        "**Create an employee list with basic salary values(at least 5 values for 5 employees) and using a for loop retreive each employee salary and calculate total salary expenditure.**"
      ],
      "metadata": {
        "id": "PmL4pykCoyt3"
      }
    },
    {
      "cell_type": "code",
      "source": [
        "emp = [10000,25000,12000,20000,18000]\n",
        "for i in emp:\n",
        "  if(i>=10000 & i<15000):\n",
        "    print(\"total salary ==>\",i )\n",
        "    print(\"total expenditure ==>\" , int(i*0.6)) \n",
        "\n",
        "  if(i>15000 & i<25000):\n",
        "    print(\"total salary ==>\",i )\n",
        "    print(\"total expenditure ==>\" , int(i*0.7)) \n",
        "  else:\n",
        "    print(\"total salary ==>\",i )\n",
        "    print(\"total expenditure ==>\" , int(i*0.8)) "
      ],
      "metadata": {
        "colab": {
          "base_uri": "https://localhost:8080/"
        },
        "id": "bb5EDFD7o0xM",
        "outputId": "383b8b3d-e072-467f-89db-7121acdc6ebf"
      },
      "execution_count": null,
      "outputs": [
        {
          "output_type": "stream",
          "name": "stdout",
          "text": [
            "total salary ==> 10000\n",
            "total expenditure ==> 6000\n",
            "total salary ==> 10000\n",
            "total expenditure ==> 7000\n",
            "total salary ==> 25000\n",
            "total expenditure ==> 15000\n",
            "total salary ==> 25000\n",
            "total expenditure ==> 17500\n",
            "total salary ==> 12000\n",
            "total expenditure ==> 7200\n",
            "total salary ==> 12000\n",
            "total expenditure ==> 8400\n",
            "total salary ==> 20000\n",
            "total expenditure ==> 12000\n",
            "total salary ==> 20000\n",
            "total expenditure ==> 14000\n",
            "total salary ==> 18000\n",
            "total expenditure ==> 10800\n",
            "total salary ==> 18000\n",
            "total expenditure ==> 12600\n"
          ]
        }
      ]
    },
    {
      "cell_type": "markdown",
      "source": [
        "**Create two dictionaries in Python:**\n",
        "\n",
        "First one to contain fields as Empid, Empname, Basicpay\n",
        "\n",
        "Second dictionary to contain fields as DeptName, DeptId.\n",
        "\n",
        "Combine both dictionaries."
      ],
      "metadata": {
        "id": "_kYZIowBo9zi"
      }
    },
    {
      "cell_type": "code",
      "source": [
        "d1 = { \"Empid\":1,\"Empname\":\"TASMIYA\",\"Basicpay\": 30000}\n",
        "d2 = {\"deptname\":\"CSE\" , \"DEPTID\": '19CSE55'}\n",
        "d3 =  {**d1 , **d2}\n",
        "print(d3)"
      ],
      "metadata": {
        "colab": {
          "base_uri": "https://localhost:8080/"
        },
        "id": "X9dGwWdvpHhP",
        "outputId": "f3788669-e49a-4823-c186-9a6b2f05655b"
      },
      "execution_count": null,
      "outputs": [
        {
          "output_type": "stream",
          "name": "stdout",
          "text": [
            "{'Empid': 1, 'Empname': 'TASMIYA', 'Basicpay': 20000, 'deptname': 'CSE', 'DEPTID': '19CSE55'}\n"
          ]
        }
      ]
    }
  ]
}